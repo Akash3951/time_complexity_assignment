{
 "cells": [
  {
   "cell_type": "markdown",
   "id": "bcb50100-7575-446b-aeef-56660c77a8f1",
   "metadata": {},
   "source": [
    "TIME COMPLEXITY"
   ]
  },
  {
   "cell_type": "code",
   "execution_count": null,
   "id": "d4f1ad2d-aedb-4f2f-9e32-9591ad064861",
   "metadata": {},
   "outputs": [],
   "source": [
    "# Q.1) Problem 1 :\n",
    "def quicksort(arr):\n",
    "    if len(arr) <= 1:\n",
    "        return arr\n",
    "    pivot = arr[len(arr) // 2]\n",
    "    left = [x for x in arr if x < pivot]\n",
    "    middle = [x for x in arr if x == pivot]\n",
    "    right = [x for x in arr if x > pivot]\n",
    "    return quicksort(left) + middle + quicksort(right)"
   ]
  },
  {
   "cell_type": "markdown",
   "id": "b0c45631-50d8-404c-86fe-cd4dfb3601a4",
   "metadata": {},
   "source": [
    "Ans:- O(2^n)"
   ]
  },
  {
   "cell_type": "code",
   "execution_count": null,
   "id": "4a46ed3f-d4a3-4f98-a20b-5c19764fb2ba",
   "metadata": {},
   "outputs": [],
   "source": [
    "# Problem 2 :\n",
    "def nested_loop_example(matrix):\n",
    "    rows, cols = len(matrix), len(matrix[0])\n",
    "    total = 0\n",
    "    for i in range(rows):\n",
    "        for j in range(cols):\n",
    "            total += matrix[i][j]\n",
    "    return total"
   ]
  },
  {
   "cell_type": "markdown",
   "id": "80dba001-15a0-49d0-8d83-21ae0e6c4360",
   "metadata": {},
   "source": [
    "Ans:- O(rows * cols)"
   ]
  },
  {
   "cell_type": "code",
   "execution_count": null,
   "id": "68ebf697-713d-470a-8040-748d195f0d4b",
   "metadata": {},
   "outputs": [],
   "source": [
    "# Problem 3 :\n",
    "def example_function(arr):\n",
    "    result = 0\n",
    "    for element in arr:\n",
    "        result += element\n",
    "    return result"
   ]
  },
  {
   "cell_type": "markdown",
   "id": "2eaaf81a-51d5-4fba-9e2f-6cb630c4e13e",
   "metadata": {},
   "source": [
    "Ans:- O(n)"
   ]
  },
  {
   "cell_type": "code",
   "execution_count": null,
   "id": "17dc0e6a-9cc3-485d-9193-4e2dea13ca9c",
   "metadata": {},
   "outputs": [],
   "source": [
    "# Problem 4 :\n",
    "def longest_increasing_subsequence(nums):\n",
    "    n = len(nums)\n",
    "    lis = [1] * n\n",
    "    for i in range(1, n):\n",
    "        for j in range(0, i):\n",
    "            if nums[i] > nums[j] and lis[i] < lis[j] + 1:\n",
    "                lis[i] = lis[j] + 1\n",
    "    return max(lis)"
   ]
  },
  {
   "cell_type": "markdown",
   "id": "8a9d4667-5179-4a24-a5a9-05fab3b401a6",
   "metadata": {},
   "source": [
    "Ans:- O(n^2)          where n=length of num"
   ]
  },
  {
   "cell_type": "code",
   "execution_count": null,
   "id": "be7fa987-ede9-4281-9f5a-4529209dabc6",
   "metadata": {},
   "outputs": [],
   "source": [
    "# Problem 5 :\n",
    "def mysterious_function(arr):\n",
    "    n = len(arr)\n",
    "    result = 0\n",
    "    for i in range(n):\n",
    "        for j in range(i, n):\n",
    "            result += arr[i] * arr[j]\n",
    "    return result"
   ]
  },
  {
   "cell_type": "markdown",
   "id": "db26c467-8c91-411b-8b81-ad1dc734daff",
   "metadata": {},
   "source": [
    "Ans:- O(n^2)         where n=length of array."
   ]
  },
  {
   "cell_type": "code",
   "execution_count": null,
   "id": "a3ac48cc-b1c6-4a49-a0ca-da672dd73ed3",
   "metadata": {},
   "outputs": [],
   "source": []
  },
  {
   "cell_type": "markdown",
   "id": "19d6679a-c81e-4054-a78c-e56e93ab3452",
   "metadata": {},
   "source": [
    "RECURSION"
   ]
  },
  {
   "cell_type": "markdown",
   "id": "ca0c52e8-cacd-4a7a-8436-4bfc86785c3f",
   "metadata": {},
   "source": [
    "Problem 6 : Sum of Digits\n",
    "Write a recursive function to calculate the sum of digits of a given positive integer.\n",
    "sum_of_digits(123) -> 6"
   ]
  },
  {
   "cell_type": "code",
   "execution_count": 6,
   "id": "899b0d45-a458-4ed0-addb-087a7d5c3c07",
   "metadata": {},
   "outputs": [],
   "source": [
    "def sumOfDigits(num):\n",
    "    if num//10 == 0:\n",
    "        return num\n",
    "    return num%10 + sumOfDigits(num//10)"
   ]
  },
  {
   "cell_type": "code",
   "execution_count": 7,
   "id": "5de74d87-e831-4dc1-9ab4-bfad863a1722",
   "metadata": {},
   "outputs": [
    {
     "data": {
      "text/plain": [
       "6"
      ]
     },
     "execution_count": 7,
     "metadata": {},
     "output_type": "execute_result"
    }
   ],
   "source": [
    "sumOfDigits(123)"
   ]
  },
  {
   "cell_type": "code",
   "execution_count": null,
   "id": "2ee35541-39f6-4ec4-b4ee-d1f0451dc323",
   "metadata": {},
   "outputs": [],
   "source": []
  },
  {
   "cell_type": "markdown",
   "id": "db3e1910-e8bb-4a52-9171-03bfbfaf0e9e",
   "metadata": {},
   "source": [
    "Problem 7: Fibonacci Series\n",
    "Write a recursive function to generate the first n numbers of the Fibonacci series.\n",
    "fibonacci_series(6) -> [0, 1, 1, 2, 3, 5]"
   ]
  },
  {
   "cell_type": "code",
   "execution_count": 32,
   "id": "65d6d570-1d2b-4b63-bd70-0f4f9249425a",
   "metadata": {},
   "outputs": [],
   "source": [
    "def fibonacci(n):\n",
    "    if n<=1:\n",
    "        return n\n",
    "    else:\n",
    "        return(fibonacci(n-1) + fibonacci(n-2))"
   ]
  },
  {
   "cell_type": "code",
   "execution_count": 33,
   "id": "b48f5e12-1b67-4dd3-b413-0082c6a4d3fb",
   "metadata": {},
   "outputs": [
    {
     "data": {
      "text/plain": [
       "8"
      ]
     },
     "execution_count": 33,
     "metadata": {},
     "output_type": "execute_result"
    }
   ],
   "source": [
    "fibonacci(6)"
   ]
  },
  {
   "cell_type": "code",
   "execution_count": null,
   "id": "74c39edb-173d-4b56-b058-a432acb31b1e",
   "metadata": {},
   "outputs": [],
   "source": []
  },
  {
   "cell_type": "markdown",
   "id": "dacdbd73-8dab-4997-bfe8-4141d1fa160b",
   "metadata": {},
   "source": [
    "Problem 8 : Subset Sum\n",
    "Given a set of positive integers and a target sum, write a recursive function to determine if there exists a subset\n",
    "of the integers that adds up to the target sum.\n",
    "subset_sum([3, 34, 4, 12, 5, 2], 9) -> True"
   ]
  },
  {
   "cell_type": "code",
   "execution_count": 13,
   "id": "23bd2bc6-154a-44b1-8661-0f94f5aca8b5",
   "metadata": {},
   "outputs": [],
   "source": [
    "def subsetSum(arr, target):\n",
    "    # base condition\n",
    "    if not arr:\n",
    "        return False\n",
    "    \n",
    "    # check if target is achieved.\n",
    "    if target in arr:\n",
    "        return True\n",
    "    \n",
    "    include_current = subsetSum(arr[1:], target - arr[0])\n",
    "    exclude_current = subsetSum(arr[1:], target)\n",
    "    \n",
    "    return include_current or exclude_current\n",
    "    \n",
    "    "
   ]
  },
  {
   "cell_type": "code",
   "execution_count": 17,
   "id": "d1e025d1-d0d4-41eb-bda5-4b090803e0bd",
   "metadata": {},
   "outputs": [
    {
     "data": {
      "text/plain": [
       "True"
      ]
     },
     "execution_count": 17,
     "metadata": {},
     "output_type": "execute_result"
    }
   ],
   "source": [
    "subsetSum([3, 34, 4, 12, 5, 2], 9)"
   ]
  },
  {
   "cell_type": "code",
   "execution_count": null,
   "id": "b5adf38b-0c25-4267-bf4d-cf9654ad1b0a",
   "metadata": {},
   "outputs": [],
   "source": []
  },
  {
   "cell_type": "markdown",
   "id": "71391844-951e-4891-b6bf-6796f8860e02",
   "metadata": {},
   "source": [
    "Problem 9: Word Break\n",
    "Given a non-empty string and a dictionary of words, write a recursive function to determine if the string can be\n",
    "segmented into a space-separated sequence of dictionary words.\n",
    "word_break( leetcode , [ leet , code ]) -> True"
   ]
  },
  {
   "cell_type": "code",
   "execution_count": 1,
   "id": "3f095165-509c-4ed8-b37e-b6b2a8f60e53",
   "metadata": {},
   "outputs": [],
   "source": [
    "def wordBreak(word, wordList):\n",
    "    if word == \"\":\n",
    "        return True\n",
    "    wordLen = len(word)\n",
    "    for i in range(1,wordLen+1):\n",
    "        if word[:i] in wordList and wordBreak(word[i:], wordList):\n",
    "            return True\n",
    "    return False"
   ]
  },
  {
   "cell_type": "code",
   "execution_count": 8,
   "id": "cf53ec7b-1a67-4645-810e-c4b10fee1726",
   "metadata": {},
   "outputs": [
    {
     "data": {
      "text/plain": [
       "True"
      ]
     },
     "execution_count": 8,
     "metadata": {},
     "output_type": "execute_result"
    }
   ],
   "source": [
    "wordBreak(\"IloveSamsung\", [\"I\", \"love\", \"sung\", \"Sam\"])"
   ]
  },
  {
   "cell_type": "code",
   "execution_count": 9,
   "id": "ea3118e3-8b95-4dab-8a31-387ff9e9fba1",
   "metadata": {},
   "outputs": [
    {
     "data": {
      "text/plain": [
       "False"
      ]
     },
     "execution_count": 9,
     "metadata": {},
     "output_type": "execute_result"
    }
   ],
   "source": [
    "wordBreak(\"leetcodes\", [\"leet\",\"code\"])"
   ]
  },
  {
   "cell_type": "code",
   "execution_count": null,
   "id": "35fea6bc-9e16-460d-8792-d795f19f5168",
   "metadata": {},
   "outputs": [],
   "source": []
  },
  {
   "cell_type": "markdown",
   "id": "37905da7-ca21-43fa-b4e4-968aa5184edf",
   "metadata": {},
   "source": [
    "Problem 10 : N-Queens\n",
    "Implement a recursive function to solve the N Queens problem, where you have to place N queens on an N×N\n",
    "chessboard in such a way that no two queens threaten each other."
   ]
  },
  {
   "cell_type": "code",
   "execution_count": 13,
   "id": "788dcafb-6035-44c5-bcc2-7732757c1e41",
   "metadata": {},
   "outputs": [],
   "source": [
    "# check if the position is suitable to place the queen or not\n",
    "def isSafeToPlace(board, row, col, n):\n",
    "    # check for left side\n",
    "    for i in range(col):\n",
    "        if board[row][i]==1:\n",
    "            return False\n",
    "        \n",
    "    # check for upper left diagonal\n",
    "    for i,j in zip(range(row,-1,-1),range(col,-1,-1)):\n",
    "        if board[i][j]==1:\n",
    "            return False\n",
    "        \n",
    "    # check for lower left diagonal\n",
    "    for i,j in zip(range(row,n,1),range(col,-1,-1)):\n",
    "        if board[i][j]==1:\n",
    "            return False\n",
    "    return True\n",
    "    \n",
    "# place the queens on the suitable position after checking all the conditions.\n",
    "def placeQueens(board, col, n):\n",
    "    # base condition\n",
    "    if col>=n:\n",
    "        return True\n",
    "    \n",
    "    # check for each row in the given column\n",
    "    for row in range(n):\n",
    "        if isSafeToPlace(board, row, col, n):\n",
    "            board[row][col]=1\n",
    "            \n",
    "            # recurively call the function for next queen to be placed\n",
    "            if placeQueens(board, col+1, n):\n",
    "                return True\n",
    "        \n",
    "            # back tracking\n",
    "            board[row][col]=0   # if queen can not be placed.\n",
    "        \n",
    "    return False   # queen placing is not possible\n",
    "\n",
    "def printBoard(board, n):\n",
    "    for row in range(n):\n",
    "        for col in range(n):\n",
    "            if board[row][col] == 1:\n",
    "                print(\"Q\", end=\" \")\n",
    "            else:\n",
    "                print(\".\", end=\" \")\n",
    "        print()\n",
    "\n",
    "# check if all the queens are placed correctly or not.\n",
    "def solveNQueens(board, n):\n",
    "    if not placeQueens(board, 0, n):\n",
    "        print(\"solution does not exists.\")\n",
    "    \n",
    "    printBoard(board,n)\n",
    "            "
   ]
  },
  {
   "cell_type": "code",
   "execution_count": 15,
   "id": "b32f5fd7-0362-47dc-bab1-1d4bb283fdd6",
   "metadata": {},
   "outputs": [
    {
     "name": "stdout",
     "output_type": "stream",
     "text": [
      ". . Q . \n",
      "Q . . . \n",
      ". . . Q \n",
      ". Q . . \n"
     ]
    }
   ],
   "source": [
    "board = [[0,0,0,0],\n",
    "         [0,0,0,0],\n",
    "         [0,0,0,0],\n",
    "         [0,0,0,0]\n",
    "        ]\n",
    "n=len(board)\n",
    "solveNQueens(board,n)"
   ]
  },
  {
   "cell_type": "code",
   "execution_count": null,
   "id": "672dc06c-a0b2-43b8-b8c6-57777bd01105",
   "metadata": {},
   "outputs": [],
   "source": []
  },
  {
   "cell_type": "code",
   "execution_count": null,
   "id": "ff336e9d-8fe0-440c-8626-4d7b9268fd60",
   "metadata": {},
   "outputs": [],
   "source": []
  }
 ],
 "metadata": {
  "kernelspec": {
   "display_name": "Python 3 (ipykernel)",
   "language": "python",
   "name": "python3"
  },
  "language_info": {
   "codemirror_mode": {
    "name": "ipython",
    "version": 3
   },
   "file_extension": ".py",
   "mimetype": "text/x-python",
   "name": "python",
   "nbconvert_exporter": "python",
   "pygments_lexer": "ipython3",
   "version": "3.10.8"
  }
 },
 "nbformat": 4,
 "nbformat_minor": 5
}
